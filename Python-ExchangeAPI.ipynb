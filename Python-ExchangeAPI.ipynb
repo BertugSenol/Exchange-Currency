{
 "cells": [
  {
   "cell_type": "code",
   "execution_count": null,
   "id": "9aa73e6d",
   "metadata": {},
   "outputs": [],
   "source": [
    "import requests\n",
    "import json"
   ]
  },
  {
   "cell_type": "code",
   "execution_count": null,
   "id": "6641f3ed",
   "metadata": {},
   "outputs": [],
   "source": [
    "api_url = \"https://api.exchangerate.host/latest?base=\""
   ]
  },
  {
   "cell_type": "code",
   "execution_count": null,
   "id": "e611940b",
   "metadata": {
    "scrolled": true
   },
   "outputs": [],
   "source": [
    "currency = input(\"What do you want to exchange? \")\n",
    "exchanged_currency = input(\"Which currency would you like convert your currency to? \")\n",
    "amount = int(input(f\"How much {currency} do you want to exchange? \"))"
   ]
  },
  {
   "cell_type": "code",
   "execution_count": null,
   "id": "684938d2",
   "metadata": {},
   "outputs": [],
   "source": [
    "result = requests.get(api_url+currency)\n",
    "result = json.loads(result.text)\n",
    "result"
   ]
  },
  {
   "cell_type": "code",
   "execution_count": null,
   "id": "5c143c8d",
   "metadata": {},
   "outputs": [],
   "source": [
    "print(f\"1 {currency} = {result['rates'][exchanged_currency]} {exchanged_currency}\")\n",
    "f\"{amount} {currency} = {round(amount*(result['rates'][exchanged_currency]),2)} {exchanged_currency}\""
   ]
  }
 ],
 "metadata": {
  "kernelspec": {
   "display_name": "Python 3 (ipykernel)",
   "language": "python",
   "name": "python3"
  },
  "language_info": {
   "codemirror_mode": {
    "name": "ipython",
    "version": 3
   },
   "file_extension": ".py",
   "mimetype": "text/x-python",
   "name": "python",
   "nbconvert_exporter": "python",
   "pygments_lexer": "ipython3",
   "version": "3.9.12"
  }
 },
 "nbformat": 4,
 "nbformat_minor": 5
}
